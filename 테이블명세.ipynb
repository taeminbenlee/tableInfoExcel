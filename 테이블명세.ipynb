{
 "cells": [
  {
   "cell_type": "code",
   "execution_count": 1,
   "id": "b0ac1c41",
   "metadata": {},
   "outputs": [
    {
     "data": {
      "text/html": [
       "<style>.container { font-weight: bold !important; }</style>"
      ],
      "text/plain": [
       "<IPython.core.display.HTML object>"
      ]
     },
     "metadata": {},
     "output_type": "display_data"
    },
    {
     "data": {
      "text/html": [
       "<style>.container { width: 98% !important; }</style>"
      ],
      "text/plain": [
       "<IPython.core.display.HTML object>"
      ]
     },
     "metadata": {},
     "output_type": "display_data"
    }
   ],
   "source": [
    "# 주피터 노트북 환경설정\n",
    "import warnings\n",
    "warnings.filterwarnings('ignore')\n",
    "warnings.simplefilter('ignore')\n",
    "\n",
    "from IPython.display import set_matplotlib_formats\n",
    "set_matplotlib_formats(\"retina\")\n",
    "\n",
    "from IPython.display import Image\n",
    "\n",
    "from IPython.core.display import display, HTML\n",
    "display(HTML(\"<style>.container { font-weight: bold !important; }</style>\"))\n",
    "display(HTML(\"<style>.container { width: 98% !important; }</style>\"))"
   ]
  },
  {
   "cell_type": "code",
   "execution_count": 2,
   "id": "75e74564",
   "metadata": {},
   "outputs": [],
   "source": [
    "import numpy as np\n",
    "import pandas as pd"
   ]
  },
  {
   "cell_type": "code",
   "execution_count": 3,
   "id": "5f10fbdf",
   "metadata": {},
   "outputs": [],
   "source": [
    "dbInfo = pd.read_excel('saleviscaretable.xlsx')"
   ]
  },
  {
   "cell_type": "code",
   "execution_count": 4,
   "id": "c5b288fc",
   "metadata": {},
   "outputs": [
    {
     "data": {
      "text/html": [
       "<div>\n",
       "<style scoped>\n",
       "    .dataframe tbody tr th:only-of-type {\n",
       "        vertical-align: middle;\n",
       "    }\n",
       "\n",
       "    .dataframe tbody tr th {\n",
       "        vertical-align: top;\n",
       "    }\n",
       "\n",
       "    .dataframe thead th {\n",
       "        text-align: right;\n",
       "    }\n",
       "</style>\n",
       "<table border=\"1\" class=\"dataframe\">\n",
       "  <thead>\n",
       "    <tr style=\"text-align: right;\">\n",
       "      <th></th>\n",
       "      <th>테이블명</th>\n",
       "      <th>논리테이블명</th>\n",
       "      <th>순번</th>\n",
       "      <th>컬럼명</th>\n",
       "      <th>데이터 타입</th>\n",
       "      <th>데이터 길이</th>\n",
       "      <th>KEY</th>\n",
       "      <th>NULL허용</th>\n",
       "      <th>자동여부</th>\n",
       "      <th>디폴트값</th>\n",
       "      <th>컬럼설명</th>\n",
       "    </tr>\n",
       "  </thead>\n",
       "  <tbody>\n",
       "    <tr>\n",
       "      <th>0</th>\n",
       "      <td>additionalserviceext</td>\n",
       "      <td>게시판 사용자정의필드</td>\n",
       "      <td>1</td>\n",
       "      <td>RelateDataId</td>\n",
       "      <td>bigint</td>\n",
       "      <td>bigint(11)</td>\n",
       "      <td>PRI</td>\n",
       "      <td>NO</td>\n",
       "      <td>NaN</td>\n",
       "      <td>NaN</td>\n",
       "      <td>게시물ID</td>\n",
       "    </tr>\n",
       "    <tr>\n",
       "      <th>1</th>\n",
       "      <td>additionalserviceext</td>\n",
       "      <td>게시판 사용자정의필드</td>\n",
       "      <td>2</td>\n",
       "      <td>ExtVarchar01</td>\n",
       "      <td>varchar</td>\n",
       "      <td>varchar(100)</td>\n",
       "      <td>NaN</td>\n",
       "      <td>YES</td>\n",
       "      <td>NaN</td>\n",
       "      <td>NaN</td>\n",
       "      <td>Varchar 01</td>\n",
       "    </tr>\n",
       "    <tr>\n",
       "      <th>2</th>\n",
       "      <td>additionalserviceext</td>\n",
       "      <td>게시판 사용자정의필드</td>\n",
       "      <td>3</td>\n",
       "      <td>ExtVarchar02</td>\n",
       "      <td>varchar</td>\n",
       "      <td>varchar(100)</td>\n",
       "      <td>NaN</td>\n",
       "      <td>YES</td>\n",
       "      <td>NaN</td>\n",
       "      <td>NaN</td>\n",
       "      <td>Varchar 02</td>\n",
       "    </tr>\n",
       "    <tr>\n",
       "      <th>3</th>\n",
       "      <td>additionalserviceext</td>\n",
       "      <td>게시판 사용자정의필드</td>\n",
       "      <td>4</td>\n",
       "      <td>ExtVarchar03</td>\n",
       "      <td>varchar</td>\n",
       "      <td>varchar(100)</td>\n",
       "      <td>NaN</td>\n",
       "      <td>YES</td>\n",
       "      <td>NaN</td>\n",
       "      <td>NaN</td>\n",
       "      <td>Varchar 03</td>\n",
       "    </tr>\n",
       "    <tr>\n",
       "      <th>4</th>\n",
       "      <td>additionalserviceext</td>\n",
       "      <td>게시판 사용자정의필드</td>\n",
       "      <td>5</td>\n",
       "      <td>ExtVarchar04</td>\n",
       "      <td>varchar</td>\n",
       "      <td>varchar(100)</td>\n",
       "      <td>NaN</td>\n",
       "      <td>YES</td>\n",
       "      <td>NaN</td>\n",
       "      <td>NaN</td>\n",
       "      <td>Varchar 04</td>\n",
       "    </tr>\n",
       "  </tbody>\n",
       "</table>\n",
       "</div>"
      ],
      "text/plain": [
       "                   테이블명       논리테이블명  순번           컬럼명   데이터 타입        데이터 길이  \\\n",
       "0  additionalserviceext  게시판 사용자정의필드   1  RelateDataId   bigint    bigint(11)   \n",
       "1  additionalserviceext  게시판 사용자정의필드   2  ExtVarchar01  varchar  varchar(100)   \n",
       "2  additionalserviceext  게시판 사용자정의필드   3  ExtVarchar02  varchar  varchar(100)   \n",
       "3  additionalserviceext  게시판 사용자정의필드   4  ExtVarchar03  varchar  varchar(100)   \n",
       "4  additionalserviceext  게시판 사용자정의필드   5  ExtVarchar04  varchar  varchar(100)   \n",
       "\n",
       "   KEY NULL허용 자동여부 디폴트값        컬럼설명  \n",
       "0  PRI     NO  NaN  NaN       게시물ID  \n",
       "1  NaN    YES  NaN  NaN  Varchar 01  \n",
       "2  NaN    YES  NaN  NaN  Varchar 02  \n",
       "3  NaN    YES  NaN  NaN  Varchar 03  \n",
       "4  NaN    YES  NaN  NaN  Varchar 04  "
      ]
     },
     "execution_count": 4,
     "metadata": {},
     "output_type": "execute_result"
    }
   ],
   "source": [
    "dbInfo.head()"
   ]
  },
  {
   "cell_type": "code",
   "execution_count": 5,
   "id": "3f501c32",
   "metadata": {},
   "outputs": [],
   "source": [
    "import openpyxl\n",
    "\n",
    "wb = openpyxl.Workbook()"
   ]
  },
  {
   "cell_type": "code",
   "execution_count": 6,
   "id": "243712ef",
   "metadata": {},
   "outputs": [],
   "source": [
    "sheet1 = wb['Sheet']\n",
    "sheet1.title = '테이블명세서'\n"
   ]
  },
  {
   "cell_type": "code",
   "execution_count": 7,
   "id": "f0874701",
   "metadata": {},
   "outputs": [],
   "source": [
    "# Workbook == 엑셀파일전체 AND Worksheet == 엑셀시트하나하나 \n",
    "# spreadsheet 라는 변수에 .active 사용시 활성화된 시트를 불러온다. 초기엔 하나뿐..\n",
    "# 시트이름 바꾸기 ex) sheet2.title = '수집 데이터'\n",
    "\n",
    "# 원하는 셀에 값 입력하기.. 예) A1, B1, C1, D1 == '테이블 이름'\n",
    "sheet1.merge_cells('A1:D1') \n",
    "sheet1['A1']= '테이블 이름'"
   ]
  },
  {
   "cell_type": "code",
   "execution_count": 8,
   "id": "f0103a13",
   "metadata": {},
   "outputs": [],
   "source": [
    "## 데이터프레임처럼 pd.read_excel 로도 엑셀파일을 불러올 수 있지만, \n",
    "## Workbook 의 메소드로도 기존 엑셀파일을 로드 할수 있다.\n",
    "## 예) openpyxl.load_workbook(파일명) ==> wb=openpyxl.load_workbook('test.xlsx')\n",
    "## 엑셀파일 저장은 Workbook.save(파일명) 으로 가능하다.\n",
    "## 예) wb.save('test.xlsx')\n"
   ]
  },
  {
   "cell_type": "code",
   "execution_count": 9,
   "id": "69cbc111",
   "metadata": {},
   "outputs": [
    {
     "name": "stdout",
     "output_type": "stream",
     "text": [
      "<class 'pandas.core.frame.DataFrame'>\n",
      "RangeIndex: 2158 entries, 0 to 2157\n",
      "Data columns (total 11 columns):\n",
      " #   Column  Non-Null Count  Dtype \n",
      "---  ------  --------------  ----- \n",
      " 0   테이블명    2158 non-null   object\n",
      " 1   논리테이블명  1966 non-null   object\n",
      " 2   순번      2158 non-null   int64 \n",
      " 3   컬럼명     2158 non-null   object\n",
      " 4   데이터 타입  2158 non-null   object\n",
      " 5   데이터 길이  2158 non-null   object\n",
      " 6   KEY     130 non-null    object\n",
      " 7   NULL허용  2158 non-null   object\n",
      " 8   자동여부    28 non-null     object\n",
      " 9   디폴트값    118 non-null    object\n",
      " 10  컬럼설명    1960 non-null   object\n",
      "dtypes: int64(1), object(10)\n",
      "memory usage: 185.6+ KB\n"
     ]
    }
   ],
   "source": [
    "## 테이블 명, 논리테이블명 등의 유니크한 값들을 시리즈로 담아본다..\n",
    "dbInfo.info()"
   ]
  },
  {
   "cell_type": "code",
   "execution_count": 10,
   "id": "bf5e52a7",
   "metadata": {},
   "outputs": [
    {
     "data": {
      "text/plain": [
       "0       False\n",
       "1        True\n",
       "2        True\n",
       "3        True\n",
       "4        True\n",
       "        ...  \n",
       "2153     True\n",
       "2154     True\n",
       "2155     True\n",
       "2156     True\n",
       "2157     True\n",
       "Name: 테이블명, Length: 2158, dtype: bool"
      ]
     },
     "execution_count": 10,
     "metadata": {},
     "output_type": "execute_result"
    }
   ],
   "source": [
    "## 위는 dbInfo 에 들어 있는 엑셀파일의 인포...\n",
    "## 테이블명은 중복값이 있고 바뀌기 때문에 중복값을 제외 한 테이블명을 담는다. \n",
    "\n",
    "dbInfo['테이블명'].duplicated()"
   ]
  },
  {
   "cell_type": "code",
   "execution_count": 11,
   "id": "c6efce93",
   "metadata": {},
   "outputs": [],
   "source": [
    "## true == 중복, false == 최초의 값, 즉, false만 뽑으면 각 테이블명만 담아낼수 있다..\n",
    "\n",
    "dbTableNames = dbInfo['테이블명'].drop_duplicates()"
   ]
  },
  {
   "cell_type": "code",
   "execution_count": 12,
   "id": "30f5ccc1",
   "metadata": {},
   "outputs": [
    {
     "data": {
      "text/plain": [
       "0     additionalserviceext\n",
       "39              aliastable\n",
       "42              attachment\n",
       "60               bbsmaster\n",
       "77            bbsmasterext\n",
       "Name: 테이블명, dtype: object"
      ]
     },
     "execution_count": 12,
     "metadata": {},
     "output_type": "execute_result"
    }
   ],
   "source": [
    "dbTableNames.head()\n"
   ]
  },
  {
   "cell_type": "code",
   "execution_count": 13,
   "id": "951a79a9",
   "metadata": {},
   "outputs": [
    {
     "data": {
      "text/plain": [
       "1943         tenant\n",
       "1986      tenantext\n",
       "2025    tenant_back\n",
       "2075          users\n",
       "2117       usersext\n",
       "Name: 테이블명, dtype: object"
      ]
     },
     "execution_count": 13,
     "metadata": {},
     "output_type": "execute_result"
    }
   ],
   "source": [
    "dbTableNames.tail()"
   ]
  },
  {
   "cell_type": "code",
   "execution_count": 14,
   "id": "bbd0a616",
   "metadata": {},
   "outputs": [
    {
     "data": {
      "text/plain": [
       "array(['additionalserviceext', 'aliastable', 'attachment', 'bbsmaster',\n",
       "       'bbsmasterext', 'bbspost', 'bbspostcomm', 'bbspostext',\n",
       "       'bbspostread', 'bookmark', 'campaign', 'campaigncustomer',\n",
       "       'campaigncustomerext', 'campaignext', 'campaignimpl',\n",
       "       'campaignimplcustomer', 'campaignimplcustomerext',\n",
       "       'campaignimplext', 'campaignlog', 'commoncode', 'csitemtypedetail',\n",
       "       'csitemtypeext', 'ctihist', 'ctihistext', 'custcampaignext',\n",
       "       'customer', 'customerbranch', 'customerext', 'department', 'form',\n",
       "       'freechat', 'freechatcomm', 'freechatuser',\n",
       "       'idpassfindcetification', 'inquery', 'inqueryext', 'menu',\n",
       "       'menutenant', 'menutype', 'metacolumn', 'metatable', 'notice',\n",
       "       'organization', 'organizationext', 'penchartdetail',\n",
       "       'penchartforms', 'penchartmaster', 'penchartmng', 'penchartmngext',\n",
       "       'role', 'roleext', 'rolescreen', 'roleusers', 'roleusers_back',\n",
       "       'scbranchpointmng', 'sccalendarmemo', 'sccampaigncustimplext',\n",
       "       'sccustcounsel', 'sccusthist', 'sccusthistext', 'sccustpassticket',\n",
       "       'sccustpaydetail', 'sccustpaymaster', 'sccustpaymethod',\n",
       "       'sccustreserveitem', 'sccustreservememo', 'sccustreservememoext',\n",
       "       'scholiday', 'scholidayext', 'scitemtype', 'scitemtyperegular',\n",
       "       'screen', 'scsurgicalreserve', 'scvisitreserve', 'sendemailverify',\n",
       "       'sendemailverifyext', 'sendnumberverify', 'sendnumberverifyext',\n",
       "       'sendverify', 'smssituationauto', 'smssituationautotenant',\n",
       "       'smssituationautouser', 'temp_code_banks', 'tenant', 'tenantext',\n",
       "       'tenant_back', 'users', 'usersext'], dtype='<U23')"
      ]
     },
     "execution_count": 14,
     "metadata": {},
     "output_type": "execute_result"
    }
   ],
   "source": [
    "## 뽑아낸 테이블명의 시리즈에서 0번지의 값을 엑셀에 추가해보자.. 셀은 E1~J1\n",
    "\n",
    "## 우선 시리즈를 어레이로..\n",
    "\n",
    "arrTableNames = np.array(dbTableNames.values.tolist())\n",
    "arrTableNames\n"
   ]
  },
  {
   "cell_type": "code",
   "execution_count": 15,
   "id": "c22de3a1",
   "metadata": {},
   "outputs": [
    {
     "data": {
      "text/plain": [
       "'additionalserviceext'"
      ]
     },
     "execution_count": 15,
     "metadata": {},
     "output_type": "execute_result"
    }
   ],
   "source": [
    "arrTableNames[0]"
   ]
  },
  {
   "cell_type": "code",
   "execution_count": 16,
   "id": "5f58f2d9",
   "metadata": {},
   "outputs": [],
   "source": [
    "## 어레이의 0번지를 특정 위치에 삽입하자..\n",
    "\n",
    "\n",
    "sheet1.merge_cells('E1:J1')\n",
    "sheet1['E1'] = arrTableNames[0]\n"
   ]
  },
  {
   "cell_type": "code",
   "execution_count": 17,
   "id": "3939627b",
   "metadata": {},
   "outputs": [],
   "source": [
    "sheet1.merge_cells('A2:D2') \n",
    "sheet1['A2']= '테이블 설명'"
   ]
  },
  {
   "cell_type": "code",
   "execution_count": 18,
   "id": "a4724424",
   "metadata": {
    "scrolled": true
   },
   "outputs": [
    {
     "data": {
      "text/plain": [
       "Int64Index([   0,   39,   42,   60,   77,  116,  134,  146,  185,  195,  207,\n",
       "             242,  265,  304,  343,  369,  404,  443,  482,  485,  514,  528,\n",
       "             567,  588,  627,  666,  690,  721,  760,  773,  801,  815,  828,\n",
       "             841,  849,  862,  901,  922,  943,  954,  989, 1003, 1021, 1052,\n",
       "            1091, 1103, 1115, 1127, 1143, 1182, 1201, 1240, 1265, 1276, 1301,\n",
       "            1314, 1326, 1365, 1382, 1390, 1429, 1448, 1463, 1489, 1501, 1516,\n",
       "            1532, 1571, 1586, 1625, 1651, 1663, 1689, 1708, 1726, 1738, 1777,\n",
       "            1792, 1831, 1851, 1886, 1908, 1914, 1943, 1986, 2025, 2075, 2117],\n",
       "           dtype='int64')"
      ]
     },
     "execution_count": 18,
     "metadata": {},
     "output_type": "execute_result"
    }
   ],
   "source": [
    "## 논리테이블명 부터는 어레이와 데이터프레임의 테이블명을 비교하여 같은것을 가져오자..\n",
    "## for문을 이용하거나 반복문을 통해서 모든 값을 어레이로 담는다..\n",
    "## 또는 dbTableNames 인덱스를 사용...?\n",
    "\n",
    "tableNameIndex = dbTableNames.index\n",
    "\n",
    "tableNameIndex\n",
    "   "
   ]
  },
  {
   "cell_type": "code",
   "execution_count": 19,
   "id": "1ec5fc96",
   "metadata": {},
   "outputs": [
    {
     "data": {
      "text/plain": [
       "['게시판 사용자정의필드',\n",
       " '테이블 별칭 정보',\n",
       " '첨부파일',\n",
       " '게시판관리',\n",
       " '게시판 사용자정의필드',\n",
       " '게시물',\n",
       " '게시물 댓글',\n",
       " '게시물 사용자정의컬럼',\n",
       " '게시물읽음',\n",
       " nan,\n",
       " '캠페인 정보',\n",
       " '캠페인 대상자-수신자 그룹 또는 수기(엑셀)등록등으로 관리',\n",
       " '게시판 사용자정의필드',\n",
       " '게시판 사용자정의필드',\n",
       " '캠페인 실행 기록',\n",
       " '캠페인 실행 대상자-캠페인 실행시에 조건에 따라서 조회/등록',\n",
       " '게시판 사용자정의필드',\n",
       " '게시판 사용자정의필드',\n",
       " '캠페인로그기록',\n",
       " '공통코드',\n",
       " 'SC 유형관리 상세 테이블',\n",
       " '게시판 사용자정의필드',\n",
       " 'CTI 이력 관리 테이블',\n",
       " '게시판 사용자정의필드',\n",
       " '게시판 사용자정의필드',\n",
       " '고객',\n",
       " '지점 별 고객 관리 테이블',\n",
       " '게시판 사용자정의필드',\n",
       " '조직',\n",
       " '서식정보',\n",
       " '프리채팅',\n",
       " '프리채팅내용',\n",
       " '프리채팅참가자',\n",
       " '이메일 인증 테이블',\n",
       " '서비스문의',\n",
       " '게시판 사용자정의필드',\n",
       " '메뉴',\n",
       " '회원사별메뉴',\n",
       " '메뉴별타입',\n",
       " '메타컬럼',\n",
       " '메타테이블',\n",
       " nan,\n",
       " '조직관리',\n",
       " '게시판 사용자정의필드',\n",
       " '고객펜차트상세',\n",
       " '펜차트 서식관리',\n",
       " '고객펜차트마스터',\n",
       " '펜차트관리 테이블',\n",
       " '게시판 사용자정의필드',\n",
       " '역할',\n",
       " '게시판 사용자정의필드',\n",
       " '역할별화면권한',\n",
       " '역할별사용자',\n",
       " nan,\n",
       " 'SC 지점별 포인트 관리',\n",
       " '캘린더 메모',\n",
       " '게시판 사용자정의필드',\n",
       " '고객 상담관리',\n",
       " '고객 이력관리',\n",
       " '게시판 사용자정의필드',\n",
       " '고객 정액권횟수권',\n",
       " '고객 결제 상세',\n",
       " '고객 결제 마스터',\n",
       " '고객 결제 수단',\n",
       " '상담 및 예약 유형 관리',\n",
       " '예약메모 관리',\n",
       " '게시판 사용자정의필드',\n",
       " nan,\n",
       " '게시판 사용자정의필드',\n",
       " 'SC 유형관리 테이블',\n",
       " 'SC 유형관리 상세 테이블',\n",
       " '화면',\n",
       " '고객 시술고객 시술예약관리',\n",
       " '고객 방문예약관리',\n",
       " '발신이메일 인증-Email발송시 인증된 이메일로만 발송이 가능하다.',\n",
       " '게시판 사용자정의필드',\n",
       " '발신번호 인증-SMS발송시 인증된 번호로만 발송이 가능하다. 중복된 번호도 가능하다.',\n",
       " '게시판 사용자정의필드',\n",
       " '발신인증-SMS/Email 발송시 인증된 번호/이메일 로만 발송이 가능하다. 중복된 번호도 가능하다.',\n",
       " '상황별 SMS 자동발송 관리',\n",
       " '상황별 SMS 테넌트별 설정',\n",
       " '상황별 SMS 사용자별 설정',\n",
       " nan,\n",
       " nan,\n",
       " 'Tenant 사용자정의필드',\n",
       " nan,\n",
       " '사용자',\n",
       " '사용자 사용자정의필드']"
      ]
     },
     "execution_count": 19,
     "metadata": {},
     "output_type": "execute_result"
    }
   ],
   "source": [
    "arrTableInfo =[]\n",
    "for i in tableNameIndex:\n",
    "    x = dbInfo.at[i, '논리테이블명']\n",
    "    arrTableInfo.append(x)\n",
    "\n",
    "    \n",
    "arrTableInfo"
   ]
  },
  {
   "cell_type": "code",
   "execution_count": 20,
   "id": "13a9c13c",
   "metadata": {},
   "outputs": [],
   "source": [
    "sheet1.merge_cells('E2:J2')\n",
    "sheet1['E2'] = arrTableInfo[0]"
   ]
  },
  {
   "cell_type": "code",
   "execution_count": 21,
   "id": "0839bef9",
   "metadata": {},
   "outputs": [],
   "source": [
    "sheet1.merge_cells('A3:D3') \n",
    "sheet1['A3']= 'PRIMARY KEY'"
   ]
  },
  {
   "cell_type": "code",
   "execution_count": 22,
   "id": "ae69d4f9",
   "metadata": {},
   "outputs": [
    {
     "data": {
      "text/html": [
       "<div>\n",
       "<style scoped>\n",
       "    .dataframe tbody tr th:only-of-type {\n",
       "        vertical-align: middle;\n",
       "    }\n",
       "\n",
       "    .dataframe tbody tr th {\n",
       "        vertical-align: top;\n",
       "    }\n",
       "\n",
       "    .dataframe thead th {\n",
       "        text-align: right;\n",
       "    }\n",
       "</style>\n",
       "<table border=\"1\" class=\"dataframe\">\n",
       "  <thead>\n",
       "    <tr style=\"text-align: right;\">\n",
       "      <th></th>\n",
       "      <th>테이블명</th>\n",
       "      <th>논리테이블명</th>\n",
       "      <th>순번</th>\n",
       "      <th>컬럼명</th>\n",
       "      <th>데이터 타입</th>\n",
       "      <th>데이터 길이</th>\n",
       "      <th>KEY</th>\n",
       "      <th>NULL허용</th>\n",
       "      <th>자동여부</th>\n",
       "      <th>디폴트값</th>\n",
       "      <th>컬럼설명</th>\n",
       "    </tr>\n",
       "  </thead>\n",
       "  <tbody>\n",
       "    <tr>\n",
       "      <th>0</th>\n",
       "      <td>additionalserviceext</td>\n",
       "      <td>게시판 사용자정의필드</td>\n",
       "      <td>1</td>\n",
       "      <td>RelateDataId</td>\n",
       "      <td>bigint</td>\n",
       "      <td>bigint(11)</td>\n",
       "      <td>PRI</td>\n",
       "      <td>NO</td>\n",
       "      <td>NaN</td>\n",
       "      <td>NaN</td>\n",
       "      <td>게시물ID</td>\n",
       "    </tr>\n",
       "    <tr>\n",
       "      <th>1</th>\n",
       "      <td>additionalserviceext</td>\n",
       "      <td>게시판 사용자정의필드</td>\n",
       "      <td>2</td>\n",
       "      <td>ExtVarchar01</td>\n",
       "      <td>varchar</td>\n",
       "      <td>varchar(100)</td>\n",
       "      <td>NaN</td>\n",
       "      <td>YES</td>\n",
       "      <td>NaN</td>\n",
       "      <td>NaN</td>\n",
       "      <td>Varchar 01</td>\n",
       "    </tr>\n",
       "    <tr>\n",
       "      <th>2</th>\n",
       "      <td>additionalserviceext</td>\n",
       "      <td>게시판 사용자정의필드</td>\n",
       "      <td>3</td>\n",
       "      <td>ExtVarchar02</td>\n",
       "      <td>varchar</td>\n",
       "      <td>varchar(100)</td>\n",
       "      <td>NaN</td>\n",
       "      <td>YES</td>\n",
       "      <td>NaN</td>\n",
       "      <td>NaN</td>\n",
       "      <td>Varchar 02</td>\n",
       "    </tr>\n",
       "    <tr>\n",
       "      <th>3</th>\n",
       "      <td>additionalserviceext</td>\n",
       "      <td>게시판 사용자정의필드</td>\n",
       "      <td>4</td>\n",
       "      <td>ExtVarchar03</td>\n",
       "      <td>varchar</td>\n",
       "      <td>varchar(100)</td>\n",
       "      <td>NaN</td>\n",
       "      <td>YES</td>\n",
       "      <td>NaN</td>\n",
       "      <td>NaN</td>\n",
       "      <td>Varchar 03</td>\n",
       "    </tr>\n",
       "    <tr>\n",
       "      <th>4</th>\n",
       "      <td>additionalserviceext</td>\n",
       "      <td>게시판 사용자정의필드</td>\n",
       "      <td>5</td>\n",
       "      <td>ExtVarchar04</td>\n",
       "      <td>varchar</td>\n",
       "      <td>varchar(100)</td>\n",
       "      <td>NaN</td>\n",
       "      <td>YES</td>\n",
       "      <td>NaN</td>\n",
       "      <td>NaN</td>\n",
       "      <td>Varchar 04</td>\n",
       "    </tr>\n",
       "  </tbody>\n",
       "</table>\n",
       "</div>"
      ],
      "text/plain": [
       "                   테이블명       논리테이블명  순번           컬럼명   데이터 타입        데이터 길이  \\\n",
       "0  additionalserviceext  게시판 사용자정의필드   1  RelateDataId   bigint    bigint(11)   \n",
       "1  additionalserviceext  게시판 사용자정의필드   2  ExtVarchar01  varchar  varchar(100)   \n",
       "2  additionalserviceext  게시판 사용자정의필드   3  ExtVarchar02  varchar  varchar(100)   \n",
       "3  additionalserviceext  게시판 사용자정의필드   4  ExtVarchar03  varchar  varchar(100)   \n",
       "4  additionalserviceext  게시판 사용자정의필드   5  ExtVarchar04  varchar  varchar(100)   \n",
       "\n",
       "   KEY NULL허용 자동여부 디폴트값        컬럼설명  \n",
       "0  PRI     NO  NaN  NaN       게시물ID  \n",
       "1  NaN    YES  NaN  NaN  Varchar 01  \n",
       "2  NaN    YES  NaN  NaN  Varchar 02  \n",
       "3  NaN    YES  NaN  NaN  Varchar 03  \n",
       "4  NaN    YES  NaN  NaN  Varchar 04  "
      ]
     },
     "execution_count": 22,
     "metadata": {},
     "output_type": "execute_result"
    }
   ],
   "source": [
    "## 프라이머리 키를 가져오기 위해서 위와 비슷하게 이번엔 인덱스가 아닌 value로..\n",
    "## \n",
    "  \n",
    "dbInfo.loc[dbInfo['테이블명'] == arrTableNames[0]].head()  \n"
   ]
  },
  {
   "cell_type": "code",
   "execution_count": 23,
   "id": "369a08f9",
   "metadata": {},
   "outputs": [],
   "source": [
    "wb.save(filename=\"test.xlsx\")"
   ]
  },
  {
   "cell_type": "code",
   "execution_count": null,
   "id": "b719c22d",
   "metadata": {},
   "outputs": [],
   "source": []
  },
  {
   "cell_type": "code",
   "execution_count": null,
   "id": "a33c5210",
   "metadata": {},
   "outputs": [],
   "source": []
  },
  {
   "cell_type": "code",
   "execution_count": null,
   "id": "8cee9e10",
   "metadata": {},
   "outputs": [],
   "source": []
  },
  {
   "cell_type": "code",
   "execution_count": 24,
   "id": "4df58ce8",
   "metadata": {},
   "outputs": [],
   "source": [
    "## 셀 bgcolor setting\n",
    "from openpyxl.styles import Border, Side, PatternFill, Font, GradientFill, Alignment\n",
    "\n",
    "for rows in sheet1.iter_rows(min_row=1, max_row=6, min_col=1, max_col=1):\n",
    "    for cell in rows:\n",
    "      cell.fill = PatternFill(fgColor=\"00C0C0C0\", fill_type = \"solid\")\n",
    "    \n",
    "## font color\n",
    "#a1 = sheet1['A1']\n",
    "#a2 = sheet1['A2']\n",
    "#ft = Font(color=\"ffffff\")\n",
    "#a1.font = ft\n",
    "#a2.font =ft"
   ]
  },
  {
   "cell_type": "code",
   "execution_count": 25,
   "id": "b5d1f498",
   "metadata": {},
   "outputs": [],
   "source": [
    "## cell border 타입 설정. \n",
    "from openpyxl.styles import Border, Side\n",
    "\n",
    "thin = Side(border_style=\"thin\", color=\"000000\")\n",
    "border = Border(left=thin, right=thin, top=thin, bottom=thin)\n",
    "\n",
    "## sheet1.border = border\n",
    "\n",
    "for row in sheet1['A1:J6']:\n",
    "    for cell in row:\n",
    "        cell.border = border\n"
   ]
  },
  {
   "cell_type": "code",
   "execution_count": 26,
   "id": "a7852921",
   "metadata": {},
   "outputs": [],
   "source": [
    "wb.save(filename=\"test.xlsx\")"
   ]
  },
  {
   "cell_type": "code",
   "execution_count": 27,
   "id": "f9e7a13d",
   "metadata": {},
   "outputs": [],
   "source": [
    "## 첫번째 테이블의 세부 내용을 담고..\n",
    "\n",
    "tableDetailByName = dbInfo.loc[dbInfo['테이블명'] == arrTableNames[0]] \n"
   ]
  },
  {
   "cell_type": "code",
   "execution_count": 28,
   "id": "6b3971da",
   "metadata": {},
   "outputs": [
    {
     "data": {
      "text/html": [
       "<div>\n",
       "<style scoped>\n",
       "    .dataframe tbody tr th:only-of-type {\n",
       "        vertical-align: middle;\n",
       "    }\n",
       "\n",
       "    .dataframe tbody tr th {\n",
       "        vertical-align: top;\n",
       "    }\n",
       "\n",
       "    .dataframe thead th {\n",
       "        text-align: right;\n",
       "    }\n",
       "</style>\n",
       "<table border=\"1\" class=\"dataframe\">\n",
       "  <thead>\n",
       "    <tr style=\"text-align: right;\">\n",
       "      <th></th>\n",
       "      <th>테이블명</th>\n",
       "      <th>논리테이블명</th>\n",
       "      <th>순번</th>\n",
       "      <th>컬럼명</th>\n",
       "      <th>데이터 타입</th>\n",
       "      <th>데이터 길이</th>\n",
       "      <th>KEY</th>\n",
       "      <th>NULL허용</th>\n",
       "      <th>자동여부</th>\n",
       "      <th>디폴트값</th>\n",
       "      <th>컬럼설명</th>\n",
       "    </tr>\n",
       "  </thead>\n",
       "  <tbody>\n",
       "    <tr>\n",
       "      <th>0</th>\n",
       "      <td>additionalserviceext</td>\n",
       "      <td>게시판 사용자정의필드</td>\n",
       "      <td>1</td>\n",
       "      <td>RelateDataId</td>\n",
       "      <td>bigint</td>\n",
       "      <td>bigint(11)</td>\n",
       "      <td>PRI</td>\n",
       "      <td>NO</td>\n",
       "      <td>NaN</td>\n",
       "      <td>NaN</td>\n",
       "      <td>게시물ID</td>\n",
       "    </tr>\n",
       "    <tr>\n",
       "      <th>1</th>\n",
       "      <td>additionalserviceext</td>\n",
       "      <td>게시판 사용자정의필드</td>\n",
       "      <td>2</td>\n",
       "      <td>ExtVarchar01</td>\n",
       "      <td>varchar</td>\n",
       "      <td>varchar(100)</td>\n",
       "      <td>NaN</td>\n",
       "      <td>YES</td>\n",
       "      <td>NaN</td>\n",
       "      <td>NaN</td>\n",
       "      <td>Varchar 01</td>\n",
       "    </tr>\n",
       "    <tr>\n",
       "      <th>2</th>\n",
       "      <td>additionalserviceext</td>\n",
       "      <td>게시판 사용자정의필드</td>\n",
       "      <td>3</td>\n",
       "      <td>ExtVarchar02</td>\n",
       "      <td>varchar</td>\n",
       "      <td>varchar(100)</td>\n",
       "      <td>NaN</td>\n",
       "      <td>YES</td>\n",
       "      <td>NaN</td>\n",
       "      <td>NaN</td>\n",
       "      <td>Varchar 02</td>\n",
       "    </tr>\n",
       "    <tr>\n",
       "      <th>3</th>\n",
       "      <td>additionalserviceext</td>\n",
       "      <td>게시판 사용자정의필드</td>\n",
       "      <td>4</td>\n",
       "      <td>ExtVarchar03</td>\n",
       "      <td>varchar</td>\n",
       "      <td>varchar(100)</td>\n",
       "      <td>NaN</td>\n",
       "      <td>YES</td>\n",
       "      <td>NaN</td>\n",
       "      <td>NaN</td>\n",
       "      <td>Varchar 03</td>\n",
       "    </tr>\n",
       "    <tr>\n",
       "      <th>4</th>\n",
       "      <td>additionalserviceext</td>\n",
       "      <td>게시판 사용자정의필드</td>\n",
       "      <td>5</td>\n",
       "      <td>ExtVarchar04</td>\n",
       "      <td>varchar</td>\n",
       "      <td>varchar(100)</td>\n",
       "      <td>NaN</td>\n",
       "      <td>YES</td>\n",
       "      <td>NaN</td>\n",
       "      <td>NaN</td>\n",
       "      <td>Varchar 04</td>\n",
       "    </tr>\n",
       "  </tbody>\n",
       "</table>\n",
       "</div>"
      ],
      "text/plain": [
       "                   테이블명       논리테이블명  순번           컬럼명   데이터 타입        데이터 길이  \\\n",
       "0  additionalserviceext  게시판 사용자정의필드   1  RelateDataId   bigint    bigint(11)   \n",
       "1  additionalserviceext  게시판 사용자정의필드   2  ExtVarchar01  varchar  varchar(100)   \n",
       "2  additionalserviceext  게시판 사용자정의필드   3  ExtVarchar02  varchar  varchar(100)   \n",
       "3  additionalserviceext  게시판 사용자정의필드   4  ExtVarchar03  varchar  varchar(100)   \n",
       "4  additionalserviceext  게시판 사용자정의필드   5  ExtVarchar04  varchar  varchar(100)   \n",
       "\n",
       "   KEY NULL허용 자동여부 디폴트값        컬럼설명  \n",
       "0  PRI     NO  NaN  NaN       게시물ID  \n",
       "1  NaN    YES  NaN  NaN  Varchar 01  \n",
       "2  NaN    YES  NaN  NaN  Varchar 02  \n",
       "3  NaN    YES  NaN  NaN  Varchar 03  \n",
       "4  NaN    YES  NaN  NaN  Varchar 04  "
      ]
     },
     "execution_count": 28,
     "metadata": {},
     "output_type": "execute_result"
    }
   ],
   "source": [
    "tableDetailByName.head()"
   ]
  },
  {
   "cell_type": "code",
   "execution_count": 29,
   "id": "3c8aaaaa",
   "metadata": {},
   "outputs": [],
   "source": [
    "## 첫번째 테이블의 프라이머리키 컬럼명을 조사한다.\n",
    "thisPK = tableDetailByName.loc[tableDetailByName['KEY']=='PRI']"
   ]
  },
  {
   "cell_type": "code",
   "execution_count": 30,
   "id": "6f124afd",
   "metadata": {},
   "outputs": [
    {
     "data": {
      "text/html": [
       "<div>\n",
       "<style scoped>\n",
       "    .dataframe tbody tr th:only-of-type {\n",
       "        vertical-align: middle;\n",
       "    }\n",
       "\n",
       "    .dataframe tbody tr th {\n",
       "        vertical-align: top;\n",
       "    }\n",
       "\n",
       "    .dataframe thead th {\n",
       "        text-align: right;\n",
       "    }\n",
       "</style>\n",
       "<table border=\"1\" class=\"dataframe\">\n",
       "  <thead>\n",
       "    <tr style=\"text-align: right;\">\n",
       "      <th></th>\n",
       "      <th>테이블명</th>\n",
       "      <th>논리테이블명</th>\n",
       "      <th>순번</th>\n",
       "      <th>컬럼명</th>\n",
       "      <th>데이터 타입</th>\n",
       "      <th>데이터 길이</th>\n",
       "      <th>KEY</th>\n",
       "      <th>NULL허용</th>\n",
       "      <th>자동여부</th>\n",
       "      <th>디폴트값</th>\n",
       "      <th>컬럼설명</th>\n",
       "    </tr>\n",
       "  </thead>\n",
       "  <tbody>\n",
       "    <tr>\n",
       "      <th>0</th>\n",
       "      <td>additionalserviceext</td>\n",
       "      <td>게시판 사용자정의필드</td>\n",
       "      <td>1</td>\n",
       "      <td>RelateDataId</td>\n",
       "      <td>bigint</td>\n",
       "      <td>bigint(11)</td>\n",
       "      <td>PRI</td>\n",
       "      <td>NO</td>\n",
       "      <td>NaN</td>\n",
       "      <td>NaN</td>\n",
       "      <td>게시물ID</td>\n",
       "    </tr>\n",
       "  </tbody>\n",
       "</table>\n",
       "</div>"
      ],
      "text/plain": [
       "                   테이블명       논리테이블명  순번           컬럼명  데이터 타입      데이터 길이  \\\n",
       "0  additionalserviceext  게시판 사용자정의필드   1  RelateDataId  bigint  bigint(11)   \n",
       "\n",
       "   KEY NULL허용 자동여부 디폴트값   컬럼설명  \n",
       "0  PRI     NO  NaN  NaN  게시물ID  "
      ]
     },
     "execution_count": 30,
     "metadata": {},
     "output_type": "execute_result"
    }
   ],
   "source": [
    "thisPK"
   ]
  },
  {
   "cell_type": "code",
   "execution_count": 31,
   "id": "ec120537",
   "metadata": {},
   "outputs": [],
   "source": [
    "PKString = thisPK['컬럼명'].values[0]"
   ]
  },
  {
   "cell_type": "code",
   "execution_count": 32,
   "id": "e7ffbb9a",
   "metadata": {},
   "outputs": [],
   "source": [
    "sheet1.merge_cells('E3:J3') \n",
    "sheet1['E3']= PKString"
   ]
  },
  {
   "cell_type": "code",
   "execution_count": 33,
   "id": "e2f8f1fa",
   "metadata": {},
   "outputs": [],
   "source": [
    "wb.save(filename=\"test.xlsx\")"
   ]
  },
  {
   "cell_type": "code",
   "execution_count": 34,
   "id": "f304459b",
   "metadata": {},
   "outputs": [],
   "source": [
    "sheet1.merge_cells('A4:D4') \n",
    "sheet1['A4']= 'FOREIGN KEY'\n",
    "sheet1.merge_cells('A5:D5') \n",
    "sheet1['A5']= 'INDEX'\n",
    "sheet1.merge_cells('A6:D6') \n",
    "sheet1['A6']= 'UNIQUE INDEX'"
   ]
  },
  {
   "cell_type": "code",
   "execution_count": 35,
   "id": "1166876e",
   "metadata": {},
   "outputs": [],
   "source": [
    "## 첫테이블의 FK를 조사\n",
    "thisFK = tableDetailByName.loc[tableDetailByName['KEY']=='MUL']\n",
    "\n",
    "\n"
   ]
  },
  {
   "cell_type": "code",
   "execution_count": 36,
   "id": "1d5dd5a4",
   "metadata": {},
   "outputs": [
    {
     "data": {
      "text/html": [
       "<div>\n",
       "<style scoped>\n",
       "    .dataframe tbody tr th:only-of-type {\n",
       "        vertical-align: middle;\n",
       "    }\n",
       "\n",
       "    .dataframe tbody tr th {\n",
       "        vertical-align: top;\n",
       "    }\n",
       "\n",
       "    .dataframe thead th {\n",
       "        text-align: right;\n",
       "    }\n",
       "</style>\n",
       "<table border=\"1\" class=\"dataframe\">\n",
       "  <thead>\n",
       "    <tr style=\"text-align: right;\">\n",
       "      <th></th>\n",
       "      <th>테이블명</th>\n",
       "      <th>논리테이블명</th>\n",
       "      <th>순번</th>\n",
       "      <th>컬럼명</th>\n",
       "      <th>데이터 타입</th>\n",
       "      <th>데이터 길이</th>\n",
       "      <th>KEY</th>\n",
       "      <th>NULL허용</th>\n",
       "      <th>자동여부</th>\n",
       "      <th>디폴트값</th>\n",
       "      <th>컬럼설명</th>\n",
       "    </tr>\n",
       "  </thead>\n",
       "  <tbody>\n",
       "  </tbody>\n",
       "</table>\n",
       "</div>"
      ],
      "text/plain": [
       "Empty DataFrame\n",
       "Columns: [테이블명, 논리테이블명, 순번, 컬럼명, 데이터 타입, 데이터 길이, KEY, NULL허용, 자동여부, 디폴트값, 컬럼설명]\n",
       "Index: []"
      ]
     },
     "execution_count": 36,
     "metadata": {},
     "output_type": "execute_result"
    }
   ],
   "source": [
    "thisFK\n"
   ]
  },
  {
   "cell_type": "code",
   "execution_count": 37,
   "id": "e63efabf",
   "metadata": {},
   "outputs": [
    {
     "ename": "NameError",
     "evalue": "name 'FKString' is not defined",
     "output_type": "error",
     "traceback": [
      "\u001b[1;31m---------------------------------------------------------------------------\u001b[0m",
      "\u001b[1;31mNameError\u001b[0m                                 Traceback (most recent call last)",
      "\u001b[1;32m<ipython-input-37-d6bfa6c2958b>\u001b[0m in \u001b[0;36m<module>\u001b[1;34m\u001b[0m\n\u001b[1;32m----> 1\u001b[1;33m \u001b[0mFKString\u001b[0m \u001b[1;33m==\u001b[0m \u001b[1;34m\"\"\u001b[0m\u001b[1;33m\u001b[0m\u001b[1;33m\u001b[0m\u001b[0m\n\u001b[0m\u001b[0;32m      2\u001b[0m \u001b[0msheet1\u001b[0m\u001b[1;33m.\u001b[0m\u001b[0mmerge_cells\u001b[0m\u001b[1;33m(\u001b[0m\u001b[1;34m'E4:J4'\u001b[0m\u001b[1;33m)\u001b[0m\u001b[1;33m\u001b[0m\u001b[1;33m\u001b[0m\u001b[0m\n\u001b[0;32m      3\u001b[0m \u001b[0mFKString\u001b[0m \u001b[1;33m=\u001b[0m \u001b[0mthisFK\u001b[0m\u001b[1;33m[\u001b[0m\u001b[1;34m'컬럼명'\u001b[0m\u001b[1;33m]\u001b[0m\u001b[1;33m.\u001b[0m\u001b[0mvalues\u001b[0m\u001b[1;33m\u001b[0m\u001b[1;33m\u001b[0m\u001b[0m\n\u001b[0;32m      4\u001b[0m \u001b[1;32mif\u001b[0m \u001b[1;32mnot\u001b[0m \u001b[0maa\u001b[0m\u001b[1;33m:\u001b[0m\u001b[1;33m\u001b[0m\u001b[1;33m\u001b[0m\u001b[0m\n\u001b[0;32m      5\u001b[0m     \u001b[0mprint\u001b[0m\u001b[1;33m(\u001b[0m\u001b[1;34m\"FKString\"\u001b[0m \u001b[1;33m+\u001b[0m \u001b[0mFKString\u001b[0m \u001b[1;33m+\u001b[0m \u001b[1;34m\"is none\"\u001b[0m\u001b[1;33m)\u001b[0m\u001b[1;33m\u001b[0m\u001b[1;33m\u001b[0m\u001b[0m\n",
      "\u001b[1;31mNameError\u001b[0m: name 'FKString' is not defined"
     ]
    }
   ],
   "source": [
    "FKString == \"\"\n",
    "sheet1.merge_cells('E4:J4') \n",
    "FKString = thisFK['컬럼명'].values\n",
    "if not aa:\n",
    "    print(\"FKString\" + FKString + \"is none\")\n",
    "else:\n",
    "    sheet1['E4']= FKString\n"
   ]
  },
  {
   "cell_type": "code",
   "execution_count": null,
   "id": "c5659103",
   "metadata": {},
   "outputs": [],
   "source": [
    "wb.save(filename=\"test.xlsx\")"
   ]
  },
  {
   "cell_type": "code",
   "execution_count": null,
   "id": "11dc878d",
   "metadata": {},
   "outputs": [],
   "source": [
    "for rows in sheet1.iter_rows(min_row=1, max_row=1, min_col=1, max_col=10):\n",
    "    for cell in rows:\n",
    "      cell.fill = PatternFill(fgColor=\"00C0C0C0\", fill_type = \"solid\")"
   ]
  },
  {
   "cell_type": "code",
   "execution_count": 38,
   "id": "420d70f3",
   "metadata": {},
   "outputs": [],
   "source": [
    "sheet1['A7']= 'NO'\n",
    "sheet1['B7']= 'PK'\n",
    "sheet1['C7']= 'AI'\n",
    "sheet1['D7']= 'FK'\n",
    "sheet1['E7']= 'NULL'\n",
    "sheet1['F7']= '컬럼 이름'\n",
    "sheet1['G7']= 'TYPE'\n",
    "sheet1['H7']= 'DEFAULT'\n",
    "sheet1['I7']= '설명'\n",
    "sheet1['J7']= '참조 테이블'\n"
   ]
  },
  {
   "cell_type": "code",
   "execution_count": 45,
   "id": "ebd2648f",
   "metadata": {},
   "outputs": [],
   "source": [
    "sheet1.merge_cells('E4:J4')\n",
    "sheet1.merge_cells('E5:J5') \n",
    "sheet1.merge_cells('E6:J6') "
   ]
  },
  {
   "cell_type": "code",
   "execution_count": 43,
   "id": "444a7206",
   "metadata": {},
   "outputs": [
    {
     "data": {
      "text/plain": [
       "Int64Index([ 1,  2,  3,  4,  5,  6,  7,  8,  9, 10, 11, 12, 13, 14, 15, 16, 17,\n",
       "            18, 19, 20, 21, 22, 23, 24, 25, 26, 27, 28, 29, 30, 31, 32, 33, 34,\n",
       "            35, 36, 37, 38, 39],\n",
       "           dtype='int64')"
      ]
     },
     "execution_count": 43,
     "metadata": {},
     "output_type": "execute_result"
    }
   ],
   "source": [
    "nn = tableDetailByName.index +1\n",
    "nn\n"
   ]
  },
  {
   "cell_type": "code",
   "execution_count": 44,
   "id": "65ab063c",
   "metadata": {},
   "outputs": [],
   "source": [
    "\n",
    "for i, value in enumerate(nn):\n",
    "    sheet1.cell(row=i+8, column=1, value=value)\n",
    "    "
   ]
  },
  {
   "cell_type": "code",
   "execution_count": 46,
   "id": "8b387278",
   "metadata": {},
   "outputs": [],
   "source": [
    "wb.save(filename=\"test.xlsx\")"
   ]
  },
  {
   "cell_type": "code",
   "execution_count": null,
   "id": "393e051e",
   "metadata": {},
   "outputs": [],
   "source": []
  },
  {
   "cell_type": "code",
   "execution_count": null,
   "id": "0da312da",
   "metadata": {},
   "outputs": [],
   "source": []
  }
 ],
 "metadata": {
  "kernelspec": {
   "display_name": "Python 3",
   "language": "python",
   "name": "python3"
  },
  "language_info": {
   "codemirror_mode": {
    "name": "ipython",
    "version": 3
   },
   "file_extension": ".py",
   "mimetype": "text/x-python",
   "name": "python",
   "nbconvert_exporter": "python",
   "pygments_lexer": "ipython3",
   "version": "3.8.8"
  }
 },
 "nbformat": 4,
 "nbformat_minor": 5
}
