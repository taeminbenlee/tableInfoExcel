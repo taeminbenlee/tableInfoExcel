{
 "cells": [
  {
   "cell_type": "code",
   "execution_count": 288,
   "id": "4eab30d9",
   "metadata": {},
   "outputs": [
    {
     "data": {
      "text/html": [
       "<style>.container { font-weight: bold !important; }</style>"
      ],
      "text/plain": [
       "<IPython.core.display.HTML object>"
      ]
     },
     "metadata": {},
     "output_type": "display_data"
    },
    {
     "data": {
      "text/html": [
       "<style>.container { width: 98% !important; }</style>"
      ],
      "text/plain": [
       "<IPython.core.display.HTML object>"
      ]
     },
     "metadata": {},
     "output_type": "display_data"
    }
   ],
   "source": [
    "# 주피터 노트북 환경설정\n",
    "import warnings\n",
    "warnings.filterwarnings('ignore')\n",
    "warnings.simplefilter('ignore')\n",
    "\n",
    "from IPython.display import set_matplotlib_formats\n",
    "set_matplotlib_formats(\"retina\")\n",
    "\n",
    "from IPython.display import Image\n",
    "\n",
    "from IPython.core.display import display, HTML\n",
    "display(HTML(\"<style>.container { font-weight: bold !important; }</style>\"))\n",
    "display(HTML(\"<style>.container { width: 98% !important; }</style>\"))"
   ]
  },
  {
   "cell_type": "code",
   "execution_count": 241,
   "id": "c8901009",
   "metadata": {},
   "outputs": [],
   "source": [
    "import numpy as np\n",
    "import pandas as pd"
   ]
  },
  {
   "cell_type": "code",
   "execution_count": 242,
   "id": "4d60d88f",
   "metadata": {},
   "outputs": [],
   "source": [
    "dfOrderlist = pd.read_excel('orderlist_original.xlsx')\n",
    "dfMasales3 = pd.read_excel('masales3_추출한_ProductCodeList.xlsx')"
   ]
  },
  {
   "cell_type": "code",
   "execution_count": 243,
   "id": "5e04c833",
   "metadata": {},
   "outputs": [
    {
     "data": {
      "text/html": [
       "<div>\n",
       "<style scoped>\n",
       "    .dataframe tbody tr th:only-of-type {\n",
       "        vertical-align: middle;\n",
       "    }\n",
       "\n",
       "    .dataframe tbody tr th {\n",
       "        vertical-align: top;\n",
       "    }\n",
       "\n",
       "    .dataframe thead th {\n",
       "        text-align: right;\n",
       "    }\n",
       "</style>\n",
       "<table border=\"1\" class=\"dataframe\">\n",
       "  <thead>\n",
       "    <tr style=\"text-align: right;\">\n",
       "      <th></th>\n",
       "      <th>ITEM_ID</th>\n",
       "      <th>ITEM_NAME</th>\n",
       "      <th>ITEM_IDV_COST</th>\n",
       "    </tr>\n",
       "  </thead>\n",
       "  <tbody>\n",
       "    <tr>\n",
       "      <th>0</th>\n",
       "      <td>2057</td>\n",
       "      <td>[BU951] 크레이프 BL</td>\n",
       "      <td>19500</td>\n",
       "    </tr>\n",
       "    <tr>\n",
       "      <th>1</th>\n",
       "      <td>3180</td>\n",
       "      <td>[B1165] 빈티지 체인 와펜</td>\n",
       "      <td>2838</td>\n",
       "    </tr>\n",
       "    <tr>\n",
       "      <th>2</th>\n",
       "      <td>3331</td>\n",
       "      <td>[B1216] 리치 울 코트</td>\n",
       "      <td>64000</td>\n",
       "    </tr>\n",
       "    <tr>\n",
       "      <th>3</th>\n",
       "      <td>4579</td>\n",
       "      <td>[B1716] 멀티 레깅스</td>\n",
       "      <td>18348</td>\n",
       "    </tr>\n",
       "    <tr>\n",
       "      <th>4</th>\n",
       "      <td>4773</td>\n",
       "      <td>[B1791] 라이더 자켓</td>\n",
       "      <td>25600</td>\n",
       "    </tr>\n",
       "  </tbody>\n",
       "</table>\n",
       "</div>"
      ],
      "text/plain": [
       "   ITEM_ID          ITEM_NAME  ITEM_IDV_COST\n",
       "0     2057    [BU951] 크레이프 BL          19500\n",
       "1     3180  [B1165] 빈티지 체인 와펜           2838\n",
       "2     3331    [B1216] 리치 울 코트          64000\n",
       "3     4579     [B1716] 멀티 레깅스          18348\n",
       "4     4773     [B1791] 라이더 자켓          25600"
      ]
     },
     "execution_count": 243,
     "metadata": {},
     "output_type": "execute_result"
    }
   ],
   "source": [
    "dfOrderlist.head()"
   ]
  },
  {
   "cell_type": "code",
   "execution_count": 244,
   "id": "d40e194b",
   "metadata": {},
   "outputs": [
    {
     "data": {
      "text/html": [
       "<div>\n",
       "<style scoped>\n",
       "    .dataframe tbody tr th:only-of-type {\n",
       "        vertical-align: middle;\n",
       "    }\n",
       "\n",
       "    .dataframe tbody tr th {\n",
       "        vertical-align: top;\n",
       "    }\n",
       "\n",
       "    .dataframe thead th {\n",
       "        text-align: right;\n",
       "    }\n",
       "</style>\n",
       "<table border=\"1\" class=\"dataframe\">\n",
       "  <thead>\n",
       "    <tr style=\"text-align: right;\">\n",
       "      <th></th>\n",
       "      <th>ProductCode</th>\n",
       "      <th>ProductName</th>\n",
       "      <th>productTag1</th>\n",
       "      <th>productTag2</th>\n",
       "    </tr>\n",
       "  </thead>\n",
       "  <tbody>\n",
       "    <tr>\n",
       "      <th>0</th>\n",
       "      <td>B1165</td>\n",
       "      <td>빈티지 체인 와펜</td>\n",
       "      <td>베이지,카키</td>\n",
       "      <td>Free</td>\n",
       "    </tr>\n",
       "    <tr>\n",
       "      <th>1</th>\n",
       "      <td>B1216</td>\n",
       "      <td>리치 울 코트</td>\n",
       "      <td>블랙,카멜</td>\n",
       "      <td>B1,B2,B3</td>\n",
       "    </tr>\n",
       "    <tr>\n",
       "      <th>2</th>\n",
       "      <td>B1286</td>\n",
       "      <td>핸드메이드 코트</td>\n",
       "      <td>블랙</td>\n",
       "      <td>B3</td>\n",
       "    </tr>\n",
       "    <tr>\n",
       "      <th>3</th>\n",
       "      <td>B1606</td>\n",
       "      <td>도트 그라데이션 머플러</td>\n",
       "      <td>인디핑크</td>\n",
       "      <td>Free</td>\n",
       "    </tr>\n",
       "    <tr>\n",
       "      <th>4</th>\n",
       "      <td>B1716</td>\n",
       "      <td>멀티 레깅스</td>\n",
       "      <td>그레이,네이비,블랙,차콜</td>\n",
       "      <td>B1,B2,B3,BF</td>\n",
       "    </tr>\n",
       "  </tbody>\n",
       "</table>\n",
       "</div>"
      ],
      "text/plain": [
       "  ProductCode   ProductName    productTag1  productTag2\n",
       "0       B1165     빈티지 체인 와펜         베이지,카키         Free\n",
       "1       B1216       리치 울 코트          블랙,카멜     B1,B2,B3\n",
       "2       B1286      핸드메이드 코트             블랙           B3\n",
       "3       B1606  도트 그라데이션 머플러           인디핑크         Free\n",
       "4       B1716        멀티 레깅스  그레이,네이비,블랙,차콜  B1,B2,B3,BF"
      ]
     },
     "execution_count": 244,
     "metadata": {},
     "output_type": "execute_result"
    }
   ],
   "source": [
    "dfMasales3.head()"
   ]
  },
  {
   "cell_type": "code",
   "execution_count": 245,
   "id": "1aa920c3",
   "metadata": {},
   "outputs": [
    {
     "data": {
      "text/plain": [
       "array(['B1165', 'B1216', 'B1286', ..., 'D0302', 'D0303', 'D0305'],\n",
       "      dtype=object)"
      ]
     },
     "execution_count": 245,
     "metadata": {},
     "output_type": "execute_result"
    }
   ],
   "source": [
    "\n",
    "arrProductCode = dfMasales3['ProductCode'].to_numpy()\n",
    "arrProductCode"
   ]
  },
  {
   "cell_type": "code",
   "execution_count": 246,
   "id": "ace59aa1",
   "metadata": {},
   "outputs": [
    {
     "data": {
      "text/plain": [
       "2738"
      ]
     },
     "execution_count": 246,
     "metadata": {},
     "output_type": "execute_result"
    }
   ],
   "source": [
    "lenPC = len(arrProductCode)\n",
    "lenPC"
   ]
  },
  {
   "cell_type": "code",
   "execution_count": 247,
   "id": "70e4fc7d",
   "metadata": {},
   "outputs": [
    {
     "data": {
      "text/plain": [
       "['B1165',\n",
       " 'B1216',\n",
       " 'B1286',\n",
       " 'B1606',\n",
       " 'B1716',\n",
       " 'B1731',\n",
       " 'B1791',\n",
       " 'B1962',\n",
       " 'B1963',\n",
       " 'B1987']"
      ]
     },
     "execution_count": 247,
     "metadata": {},
     "output_type": "execute_result"
    }
   ],
   "source": [
    " xx = []\n",
    "for x in arrProductCode:\n",
    "    # x = masales3의 프로덕트코드\n",
    "    # 뽑아낸 프로덕트코드인 x를 리스트 xx에 담는다\n",
    "    xx.append(x)\n",
    "   \n",
    "\n",
    "xx[:10]"
   ]
  },
  {
   "cell_type": "code",
   "execution_count": 248,
   "id": "658c1544",
   "metadata": {},
   "outputs": [],
   "source": [
    "#for y in xx:\n",
    "#    print(y)\n",
    "    "
   ]
  },
  {
   "cell_type": "code",
   "execution_count": 249,
   "id": "53081ad9",
   "metadata": {},
   "outputs": [
    {
     "data": {
      "text/plain": [
       "array(['[BU951] 크레이프 BL', '[B1165] 빈티지 체인 와펜', '[B1216] 리치 울 코트',\n",
       "       '[B1716] 멀티 레깅스', '[B1791] 라이더 자켓', '[B1933] 시즌 샌들',\n",
       "       '[B1963] 꽈베기 벨트', '[B1962] 트랜드 스트랩 샌들', '[B2067] 체인 벨트',\n",
       "       '[B2160] 메트 매쉬 쇼퍼 백'], dtype=object)"
      ]
     },
     "execution_count": 249,
     "metadata": {},
     "output_type": "execute_result"
    }
   ],
   "source": [
    "# original 에서 제품코드만 뽑아낸다.\n",
    "arrOrigProductCode = []\n",
    "arrOrigProductCode = dfOrderlist['ITEM_NAME'].to_numpy()\n",
    "arrOrigProductCode[:10]"
   ]
  },
  {
   "cell_type": "code",
   "execution_count": null,
   "id": "f9070edb",
   "metadata": {},
   "outputs": [],
   "source": []
  },
  {
   "cell_type": "code",
   "execution_count": 250,
   "id": "2e35d93f",
   "metadata": {},
   "outputs": [],
   "source": [
    "# 문자열의 특정 문자사이의 값을 찾기 위한 메소드\n",
    "def find_between( s, first, last ):\n",
    "    try:\n",
    "        start = s.index( first ) + len( first )\n",
    "        end = s.index( last, start )\n",
    "        return s[start:end]\n",
    "    except ValueError:\n",
    "        return \"\"\n"
   ]
  },
  {
   "cell_type": "code",
   "execution_count": 251,
   "id": "732c1205",
   "metadata": {},
   "outputs": [
    {
     "data": {
      "text/plain": [
       "['BU951',\n",
       " 'B1165',\n",
       " 'B1216',\n",
       " 'B1716',\n",
       " 'B1791',\n",
       " 'B1933',\n",
       " 'B1963',\n",
       " 'B1962',\n",
       " 'B2067',\n",
       " 'B2160']"
      ]
     },
     "execution_count": 251,
     "metadata": {},
     "output_type": "execute_result"
    }
   ],
   "source": [
    "# original에서 뽑아낸 제품코드에서 subString으로 제품코드만 추출한다\n",
    "\n",
    "xxx = []\n",
    "for x in arrOrigProductCode:\n",
    "    s = find_between( x, \"[\", \"]\" )\n",
    "    xxx.append(s)\n",
    "xxx[:10]\n",
    "\n"
   ]
  },
  {
   "cell_type": "code",
   "execution_count": 252,
   "id": "6146516b",
   "metadata": {},
   "outputs": [
    {
     "data": {
      "text/plain": [
       "RangeIndex(start=0, stop=2655, step=1)"
      ]
     },
     "execution_count": 252,
     "metadata": {},
     "output_type": "execute_result"
    }
   ],
   "source": [
    "xxxIndex = []\n",
    "xxxIndex = dfOrderlist.index\n",
    "xxxIndex"
   ]
  },
  {
   "cell_type": "code",
   "execution_count": 253,
   "id": "6462d678",
   "metadata": {},
   "outputs": [],
   "source": [
    "for x in xxxIndex:\n",
    "    \n",
    "    #print(x)\n",
    "    \n",
    "    dfOrderlist.loc[x, 'ProductCode'] = xxx[x]"
   ]
  },
  {
   "cell_type": "code",
   "execution_count": 254,
   "id": "3e8bc7b1",
   "metadata": {},
   "outputs": [
    {
     "data": {
      "text/html": [
       "<div>\n",
       "<style scoped>\n",
       "    .dataframe tbody tr th:only-of-type {\n",
       "        vertical-align: middle;\n",
       "    }\n",
       "\n",
       "    .dataframe tbody tr th {\n",
       "        vertical-align: top;\n",
       "    }\n",
       "\n",
       "    .dataframe thead th {\n",
       "        text-align: right;\n",
       "    }\n",
       "</style>\n",
       "<table border=\"1\" class=\"dataframe\">\n",
       "  <thead>\n",
       "    <tr style=\"text-align: right;\">\n",
       "      <th></th>\n",
       "      <th>ITEM_ID</th>\n",
       "      <th>ITEM_NAME</th>\n",
       "      <th>ITEM_IDV_COST</th>\n",
       "      <th>ProductCode</th>\n",
       "    </tr>\n",
       "  </thead>\n",
       "  <tbody>\n",
       "    <tr>\n",
       "      <th>0</th>\n",
       "      <td>2057</td>\n",
       "      <td>[BU951] 크레이프 BL</td>\n",
       "      <td>19500</td>\n",
       "      <td>BU951</td>\n",
       "    </tr>\n",
       "    <tr>\n",
       "      <th>1</th>\n",
       "      <td>3180</td>\n",
       "      <td>[B1165] 빈티지 체인 와펜</td>\n",
       "      <td>2838</td>\n",
       "      <td>B1165</td>\n",
       "    </tr>\n",
       "    <tr>\n",
       "      <th>2</th>\n",
       "      <td>3331</td>\n",
       "      <td>[B1216] 리치 울 코트</td>\n",
       "      <td>64000</td>\n",
       "      <td>B1216</td>\n",
       "    </tr>\n",
       "    <tr>\n",
       "      <th>3</th>\n",
       "      <td>4579</td>\n",
       "      <td>[B1716] 멀티 레깅스</td>\n",
       "      <td>18348</td>\n",
       "      <td>B1716</td>\n",
       "    </tr>\n",
       "    <tr>\n",
       "      <th>4</th>\n",
       "      <td>4773</td>\n",
       "      <td>[B1791] 라이더 자켓</td>\n",
       "      <td>25600</td>\n",
       "      <td>B1791</td>\n",
       "    </tr>\n",
       "  </tbody>\n",
       "</table>\n",
       "</div>"
      ],
      "text/plain": [
       "   ITEM_ID          ITEM_NAME  ITEM_IDV_COST ProductCode\n",
       "0     2057    [BU951] 크레이프 BL          19500       BU951\n",
       "1     3180  [B1165] 빈티지 체인 와펜           2838       B1165\n",
       "2     3331    [B1216] 리치 울 코트          64000       B1216\n",
       "3     4579     [B1716] 멀티 레깅스          18348       B1716\n",
       "4     4773     [B1791] 라이더 자켓          25600       B1791"
      ]
     },
     "execution_count": 254,
     "metadata": {},
     "output_type": "execute_result"
    }
   ],
   "source": [
    "#추출한 프로덕트 코드를 dataFrame에 새로운 컬럼으로 넣어준다.\n",
    "dfOrderlist.head()"
   ]
  },
  {
   "cell_type": "code",
   "execution_count": null,
   "id": "94986477",
   "metadata": {},
   "outputs": [],
   "source": []
  },
  {
   "cell_type": "code",
   "execution_count": 255,
   "id": "d1927788",
   "metadata": {},
   "outputs": [
    {
     "data": {
      "text/html": [
       "<div>\n",
       "<style scoped>\n",
       "    .dataframe tbody tr th:only-of-type {\n",
       "        vertical-align: middle;\n",
       "    }\n",
       "\n",
       "    .dataframe tbody tr th {\n",
       "        vertical-align: top;\n",
       "    }\n",
       "\n",
       "    .dataframe thead th {\n",
       "        text-align: right;\n",
       "    }\n",
       "</style>\n",
       "<table border=\"1\" class=\"dataframe\">\n",
       "  <thead>\n",
       "    <tr style=\"text-align: right;\">\n",
       "      <th></th>\n",
       "      <th>ITEM_ID</th>\n",
       "      <th>ITEM_NAME</th>\n",
       "      <th>ITEM_IDV_COST</th>\n",
       "      <th>ProductCode</th>\n",
       "    </tr>\n",
       "  </thead>\n",
       "  <tbody>\n",
       "    <tr>\n",
       "      <th>0</th>\n",
       "      <td>2057</td>\n",
       "      <td>[BU951] 크레이프 BL</td>\n",
       "      <td>19500</td>\n",
       "      <td>BU951</td>\n",
       "    </tr>\n",
       "    <tr>\n",
       "      <th>1</th>\n",
       "      <td>3180</td>\n",
       "      <td>[B1165] 빈티지 체인 와펜</td>\n",
       "      <td>2838</td>\n",
       "      <td>B1165</td>\n",
       "    </tr>\n",
       "    <tr>\n",
       "      <th>2</th>\n",
       "      <td>3331</td>\n",
       "      <td>[B1216] 리치 울 코트</td>\n",
       "      <td>64000</td>\n",
       "      <td>B1216</td>\n",
       "    </tr>\n",
       "    <tr>\n",
       "      <th>3</th>\n",
       "      <td>4579</td>\n",
       "      <td>[B1716] 멀티 레깅스</td>\n",
       "      <td>18348</td>\n",
       "      <td>B1716</td>\n",
       "    </tr>\n",
       "    <tr>\n",
       "      <th>4</th>\n",
       "      <td>4773</td>\n",
       "      <td>[B1791] 라이더 자켓</td>\n",
       "      <td>25600</td>\n",
       "      <td>B1791</td>\n",
       "    </tr>\n",
       "  </tbody>\n",
       "</table>\n",
       "</div>"
      ],
      "text/plain": [
       "   ITEM_ID          ITEM_NAME  ITEM_IDV_COST ProductCode\n",
       "0     2057    [BU951] 크레이프 BL          19500       BU951\n",
       "1     3180  [B1165] 빈티지 체인 와펜           2838       B1165\n",
       "2     3331    [B1216] 리치 울 코트          64000       B1216\n",
       "3     4579     [B1716] 멀티 레깅스          18348       B1716\n",
       "4     4773     [B1791] 라이더 자켓          25600       B1791"
      ]
     },
     "execution_count": 255,
     "metadata": {},
     "output_type": "execute_result"
    }
   ],
   "source": [
    "#오리지널과 masales3의 공통인 것들만 \n",
    "dfCommonValue = dfOrderlist.loc[dfOrderlist['ProductCode'].isin(xx)]\n",
    "dfCommonValue.head()"
   ]
  },
  {
   "cell_type": "code",
   "execution_count": 256,
   "id": "d436f8e4",
   "metadata": {},
   "outputs": [
    {
     "data": {
      "text/html": [
       "<div>\n",
       "<style scoped>\n",
       "    .dataframe tbody tr th:only-of-type {\n",
       "        vertical-align: middle;\n",
       "    }\n",
       "\n",
       "    .dataframe tbody tr th {\n",
       "        vertical-align: top;\n",
       "    }\n",
       "\n",
       "    .dataframe thead th {\n",
       "        text-align: right;\n",
       "    }\n",
       "</style>\n",
       "<table border=\"1\" class=\"dataframe\">\n",
       "  <thead>\n",
       "    <tr style=\"text-align: right;\">\n",
       "      <th></th>\n",
       "      <th>ITEM_ID</th>\n",
       "      <th>ITEM_NAME</th>\n",
       "      <th>ITEM_IDV_COST</th>\n",
       "      <th>ProductCode</th>\n",
       "    </tr>\n",
       "  </thead>\n",
       "  <tbody>\n",
       "    <tr>\n",
       "      <th>5</th>\n",
       "      <td>4974</td>\n",
       "      <td>[B1933] 시즌 샌들</td>\n",
       "      <td>34000</td>\n",
       "      <td>B1933</td>\n",
       "    </tr>\n",
       "    <tr>\n",
       "      <th>11</th>\n",
       "      <td>5592</td>\n",
       "      <td>[B2262] 리치 사파리</td>\n",
       "      <td>41800</td>\n",
       "      <td>B2262</td>\n",
       "    </tr>\n",
       "    <tr>\n",
       "      <th>12</th>\n",
       "      <td>5651</td>\n",
       "      <td>[B2309] 시티 포켓 백</td>\n",
       "      <td>48900</td>\n",
       "      <td>B2309</td>\n",
       "    </tr>\n",
       "    <tr>\n",
       "      <th>14</th>\n",
       "      <td>5787</td>\n",
       "      <td>[B2407] 레이디 힐</td>\n",
       "      <td>27720</td>\n",
       "      <td>B2407</td>\n",
       "    </tr>\n",
       "    <tr>\n",
       "      <th>18</th>\n",
       "      <td>6316</td>\n",
       "      <td>[B2726] 터들 패치 티</td>\n",
       "      <td>28600</td>\n",
       "      <td>B2726</td>\n",
       "    </tr>\n",
       "  </tbody>\n",
       "</table>\n",
       "</div>"
      ],
      "text/plain": [
       "    ITEM_ID        ITEM_NAME  ITEM_IDV_COST ProductCode\n",
       "5      4974    [B1933] 시즌 샌들          34000       B1933\n",
       "11     5592   [B2262] 리치 사파리          41800       B2262\n",
       "12     5651  [B2309] 시티 포켓 백          48900       B2309\n",
       "14     5787    [B2407] 레이디 힐          27720       B2407\n",
       "18     6316  [B2726] 터들 패치 티          28600       B2726"
      ]
     },
     "execution_count": 256,
     "metadata": {},
     "output_type": "execute_result"
    }
   ],
   "source": [
    "#반대..\n",
    "dfNotCommonValue = dfOrderlist.loc[~dfOrderlist['ProductCode'].isin(xx)]\n",
    "dfNotCommonValue.head()"
   ]
  },
  {
   "cell_type": "code",
   "execution_count": 257,
   "id": "856b4982",
   "metadata": {},
   "outputs": [],
   "source": [
    "#masales3 에 새 컬럼 가격을 넣어준다\n",
    "dfMasales3['ItemCost'] = 0\n"
   ]
  },
  {
   "cell_type": "code",
   "execution_count": 258,
   "id": "f9cbfb23",
   "metadata": {},
   "outputs": [
    {
     "data": {
      "text/plain": [
       "Int64Index([0, 1, 2, 3, 4, 6, 7, 8, 9, 10], dtype='int64')"
      ]
     },
     "execution_count": 258,
     "metadata": {},
     "output_type": "execute_result"
    }
   ],
   "source": [
    "# 공통값의 인덱스 넘버 조사 for문을 위해,,,?\n",
    "arrCV = []\n",
    "arrCV = dfCommonValue.index\n",
    "arrCV[:10]\n"
   ]
  },
  {
   "cell_type": "code",
   "execution_count": 259,
   "id": "7ee2386b",
   "metadata": {},
   "outputs": [],
   "source": [
    "arrCV_PC = []\n",
    "for x in arrCV:\n",
    "    xx=[]\n",
    "    #해당 인덱스에 해당하는 상품코드 출력\n",
    "    xx = dfCommonValue.loc[x, ['ProductCode']].values\n",
    "    # 해당 인덱스에 해당하는 가격 출력\n",
    "    xxCost = dfCommonValue.loc[x, ['ITEM_IDV_COST']].values\n",
    "    #얻은 상품코드를 masales3에서 찾아내어 인덱스 번호를 찾는다\n",
    "    xxx = dfMasales3.loc[dfMasales3['ProductCode'].isin(xx)].index\n",
    "    dfMasales3.loc[xxx, 'ItemCost'] = xxCost\n",
    "    "
   ]
  },
  {
   "cell_type": "code",
   "execution_count": 260,
   "id": "664cc0fc",
   "metadata": {},
   "outputs": [
    {
     "data": {
      "text/html": [
       "<div>\n",
       "<style scoped>\n",
       "    .dataframe tbody tr th:only-of-type {\n",
       "        vertical-align: middle;\n",
       "    }\n",
       "\n",
       "    .dataframe tbody tr th {\n",
       "        vertical-align: top;\n",
       "    }\n",
       "\n",
       "    .dataframe thead th {\n",
       "        text-align: right;\n",
       "    }\n",
       "</style>\n",
       "<table border=\"1\" class=\"dataframe\">\n",
       "  <thead>\n",
       "    <tr style=\"text-align: right;\">\n",
       "      <th></th>\n",
       "      <th>ProductCode</th>\n",
       "      <th>ProductName</th>\n",
       "      <th>productTag1</th>\n",
       "      <th>productTag2</th>\n",
       "      <th>ItemCost</th>\n",
       "    </tr>\n",
       "  </thead>\n",
       "  <tbody>\n",
       "    <tr>\n",
       "      <th>0</th>\n",
       "      <td>B1165</td>\n",
       "      <td>빈티지 체인 와펜</td>\n",
       "      <td>베이지,카키</td>\n",
       "      <td>Free</td>\n",
       "      <td>2838</td>\n",
       "    </tr>\n",
       "    <tr>\n",
       "      <th>1</th>\n",
       "      <td>B1216</td>\n",
       "      <td>리치 울 코트</td>\n",
       "      <td>블랙,카멜</td>\n",
       "      <td>B1,B2,B3</td>\n",
       "      <td>64000</td>\n",
       "    </tr>\n",
       "    <tr>\n",
       "      <th>2</th>\n",
       "      <td>B1286</td>\n",
       "      <td>핸드메이드 코트</td>\n",
       "      <td>블랙</td>\n",
       "      <td>B3</td>\n",
       "      <td>0</td>\n",
       "    </tr>\n",
       "    <tr>\n",
       "      <th>3</th>\n",
       "      <td>B1606</td>\n",
       "      <td>도트 그라데이션 머플러</td>\n",
       "      <td>인디핑크</td>\n",
       "      <td>Free</td>\n",
       "      <td>0</td>\n",
       "    </tr>\n",
       "    <tr>\n",
       "      <th>4</th>\n",
       "      <td>B1716</td>\n",
       "      <td>멀티 레깅스</td>\n",
       "      <td>그레이,네이비,블랙,차콜</td>\n",
       "      <td>B1,B2,B3,BF</td>\n",
       "      <td>18348</td>\n",
       "    </tr>\n",
       "  </tbody>\n",
       "</table>\n",
       "</div>"
      ],
      "text/plain": [
       "  ProductCode   ProductName    productTag1  productTag2 ItemCost\n",
       "0       B1165     빈티지 체인 와펜         베이지,카키         Free     2838\n",
       "1       B1216       리치 울 코트          블랙,카멜     B1,B2,B3    64000\n",
       "2       B1286      핸드메이드 코트             블랙           B3        0\n",
       "3       B1606  도트 그라데이션 머플러           인디핑크         Free        0\n",
       "4       B1716        멀티 레깅스  그레이,네이비,블랙,차콜  B1,B2,B3,BF    18348"
      ]
     },
     "execution_count": 260,
     "metadata": {},
     "output_type": "execute_result"
    }
   ],
   "source": [
    "dfMasales3.head()"
   ]
  },
  {
   "cell_type": "code",
   "execution_count": 261,
   "id": "93926b41",
   "metadata": {},
   "outputs": [],
   "source": [
    "#final = \"D:\\dev-envs\\pyexcel//masales3WithProductCost.xlsx\"\n",
    "#dfMasales3.to_excel(final, sheet_name='masales3WithProductCost', index=False)"
   ]
  },
  {
   "cell_type": "code",
   "execution_count": 262,
   "id": "fc18e06d",
   "metadata": {},
   "outputs": [],
   "source": [
    "dfMasales3_sorted = dfMasales3.sort_values(by='ItemCost', ascending=False)"
   ]
  },
  {
   "cell_type": "code",
   "execution_count": 263,
   "id": "0b3fae3e",
   "metadata": {},
   "outputs": [
    {
     "data": {
      "text/html": [
       "<div>\n",
       "<style scoped>\n",
       "    .dataframe tbody tr th:only-of-type {\n",
       "        vertical-align: middle;\n",
       "    }\n",
       "\n",
       "    .dataframe tbody tr th {\n",
       "        vertical-align: top;\n",
       "    }\n",
       "\n",
       "    .dataframe thead th {\n",
       "        text-align: right;\n",
       "    }\n",
       "</style>\n",
       "<table border=\"1\" class=\"dataframe\">\n",
       "  <thead>\n",
       "    <tr style=\"text-align: right;\">\n",
       "      <th></th>\n",
       "      <th>ProductCode</th>\n",
       "      <th>ProductName</th>\n",
       "      <th>productTag1</th>\n",
       "      <th>productTag2</th>\n",
       "      <th>ItemCost</th>\n",
       "    </tr>\n",
       "  </thead>\n",
       "  <tbody>\n",
       "    <tr>\n",
       "      <th>615</th>\n",
       "      <td>B5034</td>\n",
       "      <td>폭스 우먼 베스트</td>\n",
       "      <td>다크브라운</td>\n",
       "      <td>B1,B3</td>\n",
       "      <td>226800</td>\n",
       "    </tr>\n",
       "    <tr>\n",
       "      <th>1338</th>\n",
       "      <td>BFFD801</td>\n",
       "      <td>플리츠 다운 패딩</td>\n",
       "      <td>블랙</td>\n",
       "      <td>B1,B2,B3,BF</td>\n",
       "      <td>186103</td>\n",
       "    </tr>\n",
       "    <tr>\n",
       "      <th>1326</th>\n",
       "      <td>BFFC708</td>\n",
       "      <td>알파카 라쿤후드 코트</td>\n",
       "      <td>블랙</td>\n",
       "      <td>B1,B2,B3,BF</td>\n",
       "      <td>176266</td>\n",
       "    </tr>\n",
       "    <tr>\n",
       "      <th>2657</th>\n",
       "      <td>D0204</td>\n",
       "      <td>램스킨 카멜 호보백</td>\n",
       "      <td>카멜</td>\n",
       "      <td>Free</td>\n",
       "      <td>172000</td>\n",
       "    </tr>\n",
       "    <tr>\n",
       "      <th>630</th>\n",
       "      <td>B5049</td>\n",
       "      <td>헤리티지 폭스퍼 다운패딩</td>\n",
       "      <td>세피아브라운</td>\n",
       "      <td>B1,B2,B3</td>\n",
       "      <td>169856</td>\n",
       "    </tr>\n",
       "  </tbody>\n",
       "</table>\n",
       "</div>"
      ],
      "text/plain": [
       "     ProductCode    ProductName productTag1  productTag2 ItemCost\n",
       "615        B5034      폭스 우먼 베스트       다크브라운        B1,B3   226800\n",
       "1338     BFFD801      플리츠 다운 패딩          블랙  B1,B2,B3,BF   186103\n",
       "1326     BFFC708    알파카 라쿤후드 코트          블랙  B1,B2,B3,BF   176266\n",
       "2657       D0204     램스킨 카멜 호보백          카멜         Free   172000\n",
       "630        B5049  헤리티지 폭스퍼 다운패딩      세피아브라운     B1,B2,B3   169856"
      ]
     },
     "execution_count": 263,
     "metadata": {},
     "output_type": "execute_result"
    }
   ],
   "source": [
    "dfMasales3_sorted.head()"
   ]
  },
  {
   "cell_type": "code",
   "execution_count": 264,
   "id": "191ec1f3",
   "metadata": {},
   "outputs": [],
   "source": [
    "import openpyxl\n",
    "from openpyxl.styles import PatternFill, Border, Side, Alignment, Protection, Font"
   ]
  },
  {
   "cell_type": "code",
   "execution_count": 265,
   "id": "3c187b9c",
   "metadata": {},
   "outputs": [],
   "source": [
    "wb = openpyxl.Workbook()"
   ]
  },
  {
   "cell_type": "code",
   "execution_count": 266,
   "id": "f6e33ab1",
   "metadata": {},
   "outputs": [],
   "source": [
    "ws = wb.create_sheet('sheet')\n",
    "ws.title = '주문테이블'"
   ]
  },
  {
   "cell_type": "code",
   "execution_count": 267,
   "id": "10d3b992",
   "metadata": {},
   "outputs": [],
   "source": [
    "ws.merge_cells('A1:D1') \n",
    "ws['A1']= '상품가격 있는 제품의 수'\n",
    "ws.merge_cells('E1')\n",
    "ws.merge_cells('A2:D2') \n",
    "ws['A2'] = '상품가격 없는 제품의 수'\n",
    "ws.merge_cells('E2')\n",
    "ws.merge_cells('A3:D3')\n",
    "ws['A3'] = 'orderlist_original.xlsx에 없는 제품의 수'\n",
    "ws.merge_cells('E3')\n",
    "ws.merge_cells('A4:D4')\n",
    "ws['A4'] = 'orderlist_original.xlsx에 없는 제품의 ProductCode'\n",
    "ws.merge_cells('E4')\n",
    "\n"
   ]
  },
  {
   "cell_type": "code",
   "execution_count": 268,
   "id": "736a1f33",
   "metadata": {},
   "outputs": [],
   "source": [
    "arrThereIsPrice = []\n",
    "arrThereIsPrice = dfMasales3[dfMasales3['ItemCost'] > 0].index\n",
    "\n",
    "arrThereIsNoPrice = []\n",
    "arrThereIsNoPrice = dfMasales3[dfMasales3['ItemCost'] == 0].index"
   ]
  },
  {
   "cell_type": "code",
   "execution_count": 269,
   "id": "28e07f2e",
   "metadata": {},
   "outputs": [
    {
     "data": {
      "text/plain": [
       "Int64Index([   0,    1,    4,    6,    7,    8,   12,   13,   14,   16,\n",
       "            ...\n",
       "            2728, 2729, 2730, 2731, 2732, 2733, 2734, 2735, 2736, 2737],\n",
       "           dtype='int64', length=1945)"
      ]
     },
     "execution_count": 269,
     "metadata": {},
     "output_type": "execute_result"
    }
   ],
   "source": [
    "arrThereIsPrice"
   ]
  },
  {
   "cell_type": "code",
   "execution_count": 270,
   "id": "9400d77c",
   "metadata": {},
   "outputs": [
    {
     "name": "stdout",
     "output_type": "stream",
     "text": [
      "1945\n"
     ]
    }
   ],
   "source": [
    "print(len(arrThereIsPrice))\n",
    "ws['E1']=len(arrThereIsPrice)"
   ]
  },
  {
   "cell_type": "code",
   "execution_count": 271,
   "id": "59e2a54a",
   "metadata": {},
   "outputs": [],
   "source": [
    "arrThereIsNoPrice\n",
    "ws['E2']=len(arrThereIsNoPrice)"
   ]
  },
  {
   "cell_type": "code",
   "execution_count": 272,
   "id": "8abe1caa",
   "metadata": {},
   "outputs": [],
   "source": [
    "dfNotCommonValue['ProductCode']\n",
    "arrNotCVPC = []\n",
    "arrNotCVPC = dfNotCommonValue['ProductCode']"
   ]
  },
  {
   "cell_type": "code",
   "execution_count": 273,
   "id": "55032119",
   "metadata": {},
   "outputs": [
    {
     "data": {
      "text/plain": [
       "5     B1933\n",
       "11    B2262\n",
       "12    B2309\n",
       "14    B2407\n",
       "18    B2726\n",
       "Name: ProductCode, dtype: object"
      ]
     },
     "execution_count": 273,
     "metadata": {},
     "output_type": "execute_result"
    }
   ],
   "source": [
    "arrNotCVPC.head()"
   ]
  },
  {
   "cell_type": "code",
   "execution_count": 274,
   "id": "22138075",
   "metadata": {},
   "outputs": [],
   "source": [
    "ws['E3']=len(arrNotCVPC)\n"
   ]
  },
  {
   "cell_type": "code",
   "execution_count": 275,
   "id": "81d2f9a6",
   "metadata": {},
   "outputs": [],
   "source": [
    "xStr = ''\n",
    "for x in arrNotCVPC:\n",
    "    xStr += str(x) + ' / '\n",
    "    \n",
    "ws['E4']= xStr\n",
    "    \n"
   ]
  },
  {
   "cell_type": "code",
   "execution_count": null,
   "id": "08d96e1d",
   "metadata": {},
   "outputs": [],
   "source": []
  },
  {
   "cell_type": "code",
   "execution_count": 276,
   "id": "8204d347",
   "metadata": {},
   "outputs": [
    {
     "data": {
      "text/html": [
       "<div>\n",
       "<style scoped>\n",
       "    .dataframe tbody tr th:only-of-type {\n",
       "        vertical-align: middle;\n",
       "    }\n",
       "\n",
       "    .dataframe tbody tr th {\n",
       "        vertical-align: top;\n",
       "    }\n",
       "\n",
       "    .dataframe thead th {\n",
       "        text-align: right;\n",
       "    }\n",
       "</style>\n",
       "<table border=\"1\" class=\"dataframe\">\n",
       "  <thead>\n",
       "    <tr style=\"text-align: right;\">\n",
       "      <th></th>\n",
       "      <th>ProductCode</th>\n",
       "      <th>ProductName</th>\n",
       "      <th>productTag1</th>\n",
       "      <th>productTag2</th>\n",
       "      <th>ItemCost</th>\n",
       "    </tr>\n",
       "  </thead>\n",
       "  <tbody>\n",
       "    <tr>\n",
       "      <th>615</th>\n",
       "      <td>B5034</td>\n",
       "      <td>폭스 우먼 베스트</td>\n",
       "      <td>다크브라운</td>\n",
       "      <td>B1,B3</td>\n",
       "      <td>226800</td>\n",
       "    </tr>\n",
       "    <tr>\n",
       "      <th>1338</th>\n",
       "      <td>BFFD801</td>\n",
       "      <td>플리츠 다운 패딩</td>\n",
       "      <td>블랙</td>\n",
       "      <td>B1,B2,B3,BF</td>\n",
       "      <td>186103</td>\n",
       "    </tr>\n",
       "    <tr>\n",
       "      <th>1326</th>\n",
       "      <td>BFFC708</td>\n",
       "      <td>알파카 라쿤후드 코트</td>\n",
       "      <td>블랙</td>\n",
       "      <td>B1,B2,B3,BF</td>\n",
       "      <td>176266</td>\n",
       "    </tr>\n",
       "    <tr>\n",
       "      <th>2657</th>\n",
       "      <td>D0204</td>\n",
       "      <td>램스킨 카멜 호보백</td>\n",
       "      <td>카멜</td>\n",
       "      <td>Free</td>\n",
       "      <td>172000</td>\n",
       "    </tr>\n",
       "    <tr>\n",
       "      <th>630</th>\n",
       "      <td>B5049</td>\n",
       "      <td>헤리티지 폭스퍼 다운패딩</td>\n",
       "      <td>세피아브라운</td>\n",
       "      <td>B1,B2,B3</td>\n",
       "      <td>169856</td>\n",
       "    </tr>\n",
       "  </tbody>\n",
       "</table>\n",
       "</div>"
      ],
      "text/plain": [
       "     ProductCode    ProductName productTag1  productTag2 ItemCost\n",
       "615        B5034      폭스 우먼 베스트       다크브라운        B1,B3   226800\n",
       "1338     BFFD801      플리츠 다운 패딩          블랙  B1,B2,B3,BF   186103\n",
       "1326     BFFC708    알파카 라쿤후드 코트          블랙  B1,B2,B3,BF   176266\n",
       "2657       D0204     램스킨 카멜 호보백          카멜         Free   172000\n",
       "630        B5049  헤리티지 폭스퍼 다운패딩      세피아브라운     B1,B2,B3   169856"
      ]
     },
     "execution_count": 276,
     "metadata": {},
     "output_type": "execute_result"
    }
   ],
   "source": [
    "dfMasales3_sorted.head()"
   ]
  },
  {
   "cell_type": "code",
   "execution_count": 277,
   "id": "9beb35e2",
   "metadata": {},
   "outputs": [],
   "source": [
    "ws['A5']='ProductCode'\n",
    "ws['B5']='ProductName'\n",
    "ws['C5']='productTag1'\n",
    "ws['D5']='productTag2'\n",
    "ws['E5']='ItemCost'\n"
   ]
  },
  {
   "cell_type": "code",
   "execution_count": 278,
   "id": "af3fcb24",
   "metadata": {},
   "outputs": [],
   "source": [
    "arrNum = dfMasales3_sorted.index"
   ]
  },
  {
   "cell_type": "code",
   "execution_count": 279,
   "id": "0bf63f8a",
   "metadata": {},
   "outputs": [
    {
     "data": {
      "text/plain": [
       "2738"
      ]
     },
     "execution_count": 279,
     "metadata": {},
     "output_type": "execute_result"
    }
   ],
   "source": [
    "intn = len(arrNum)\n",
    "intn"
   ]
  },
  {
   "cell_type": "code",
   "execution_count": 280,
   "id": "b17636d7",
   "metadata": {},
   "outputs": [],
   "source": [
    "finalPCode = dfMasales3_sorted['ProductCode']\n",
    "fpc = finalPCode.values\n",
    "for i, value in enumerate(fpc):\n",
    "    ws.cell(row=i+6, column=1, value=value)\n",
    "    "
   ]
  },
  {
   "cell_type": "code",
   "execution_count": 281,
   "id": "12d071c7",
   "metadata": {},
   "outputs": [],
   "source": [
    "finalPName = dfMasales3_sorted['ProductName']\n",
    "fpn = finalPName.values\n",
    "for i, value in enumerate(fpn):\n",
    "    ws.cell(row=i+6, column=2, value=value)"
   ]
  },
  {
   "cell_type": "code",
   "execution_count": 282,
   "id": "d85cd250",
   "metadata": {},
   "outputs": [],
   "source": [
    "finalPT1 = dfMasales3_sorted['productTag1']\n",
    "fpt1 = finalPT1.values\n",
    "for i, value in enumerate(fpt1):\n",
    "    ws.cell(row=i+6, column=3, value=value)"
   ]
  },
  {
   "cell_type": "code",
   "execution_count": 283,
   "id": "313686de",
   "metadata": {},
   "outputs": [],
   "source": [
    "finalPT2 = dfMasales3_sorted['productTag2']\n",
    "fpt2 = finalPT2.values\n",
    "for i, value in enumerate(fpt2):\n",
    "    ws.cell(row=i+6, column=4, value=value)"
   ]
  },
  {
   "cell_type": "code",
   "execution_count": 284,
   "id": "9614e15d",
   "metadata": {},
   "outputs": [],
   "source": [
    "finalCost = dfMasales3_sorted['ItemCost']\n",
    "fc = finalCost.values\n",
    "for i, value in enumerate(fc):\n",
    "    ws.cell(row=i+6, column=5, value=value)"
   ]
  },
  {
   "cell_type": "code",
   "execution_count": 285,
   "id": "06b51f72",
   "metadata": {},
   "outputs": [],
   "source": [
    "my_bgColor = openpyxl.styles.colors.Color(rgb='00C0C0C0')\n",
    "my_fill = openpyxl.styles.fills.PatternFill(patternType='solid', fgColor=my_bgColor)\n",
    "ws['A1'].fill = my_fill\n",
    "ws['A2'].fill = my_fill \n",
    "ws['A3'].fill = my_fill\n",
    "ws['A4'].fill = my_fill\n",
    "ws['A5'].fill = my_fill\n",
    "ws['B5'].fill = my_fill\n",
    "ws['C5'].fill = my_fill\n",
    "ws['D5'].fill = my_fill\n",
    "ws['E5'].fill = my_fill\n",
    "\n",
    "thin = Side(border_style=\"thin\", color=\"000000\")\n",
    "border = Border(left=thin, right=thin, top=thin, bottom=thin)\n",
    "bb = len(ws['E'])\n",
    "bbb = 'E'+str(bb)\n",
    "for row in ws['A1':bbb]:\n",
    "    for cell in row:\n",
    "        cell.border = border"
   ]
  },
  {
   "cell_type": "code",
   "execution_count": 286,
   "id": "28e21d58",
   "metadata": {},
   "outputs": [],
   "source": [
    "wb.save(filename=\"masales3수정.xlsx\")"
   ]
  },
  {
   "cell_type": "code",
   "execution_count": 287,
   "id": "1f96411d",
   "metadata": {},
   "outputs": [],
   "source": [
    "#final = \"D:\\dev-envs\\pyexcel//masales3WithProductCost.xlsx\"\n",
    "#dfMasales3.to_excel(final, sheet_name='masales3WithProductCost', index=False)"
   ]
  },
  {
   "cell_type": "code",
   "execution_count": null,
   "id": "fb11c755",
   "metadata": {},
   "outputs": [],
   "source": []
  },
  {
   "cell_type": "code",
   "execution_count": null,
   "id": "c9ad8dad",
   "metadata": {},
   "outputs": [],
   "source": []
  }
 ],
 "metadata": {
  "kernelspec": {
   "display_name": "Python 3",
   "language": "python",
   "name": "python3"
  },
  "language_info": {
   "codemirror_mode": {
    "name": "ipython",
    "version": 3
   },
   "file_extension": ".py",
   "mimetype": "text/x-python",
   "name": "python",
   "nbconvert_exporter": "python",
   "pygments_lexer": "ipython3",
   "version": "3.8.8"
  }
 },
 "nbformat": 4,
 "nbformat_minor": 5
}
